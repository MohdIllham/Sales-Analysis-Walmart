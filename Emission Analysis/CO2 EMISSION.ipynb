{
 "cells": [
  {
   "cell_type": "markdown",
   "id": "2eb02da5",
   "metadata": {},
   "source": [
    "# Import Library"
   ]
  },
  {
   "cell_type": "code",
   "execution_count": null,
   "id": "3638bcb6",
   "metadata": {},
   "outputs": [],
   "source": [
    "import pandas as pd\n",
    "import numpy as np\n",
    "import warnings\n",
    "import seaborn as sns\n",
    "      \n",
    "import matplotlib\n",
    "import matplotlib.pyplot as plt\n",
    "\n",
    "import squarify\n",
    "import matplotlib.gridspec as gs\n",
    "import plotly.express as px\n",
    "import pycountry_convert as pc\n",
    "\n",
    "warnings.filterwarnings('ignore')"
   ]
  },
  {
   "cell_type": "markdown",
   "id": "243278c4",
   "metadata": {},
   "source": [
    "# CARBON EMISSION\n",
    "\n",
    "This notebook is purely an exploratory data analysis to see if I can figure out which Countries have highest or Lowest Carbon Emission. To do this, I will be analysing & exploring the data set provided, and the historic carbon emission  from 1995.\n",
    "\n",
    "I hope to learn a few things along the way, and I hope anyone reading this will, too.\n",
    "\n",
    "I'll also explore if countries can improve their positions over time, or if the placings are more or less static.\n",
    "\n"
   ]
  },
  {
   "cell_type": "markdown",
   "id": "8d326f98",
   "metadata": {},
   "source": [
    "# Load Data\n"
   ]
  },
  {
   "cell_type": "code",
   "execution_count": null,
   "id": "0318f35a",
   "metadata": {},
   "outputs": [],
   "source": [
    "#get data\n",
    "df=pd.read_csv(\"../Emission/carbon dioxide.csv\")\n",
    "df_backup=df.copy()\n",
    "df.head(2)"
   ]
  },
  {
   "cell_type": "markdown",
   "id": "d117a9ee",
   "metadata": {},
   "source": [
    "# DATA WRANGLING AND CLEANING"
   ]
  },
  {
   "cell_type": "code",
   "execution_count": null,
   "id": "a8e0788b",
   "metadata": {},
   "outputs": [],
   "source": [
    "df.info()"
   ]
  },
  {
   "cell_type": "code",
   "execution_count": null,
   "id": "88a7808b",
   "metadata": {},
   "outputs": [],
   "source": [
    "df.shape"
   ]
  },
  {
   "cell_type": "code",
   "execution_count": null,
   "id": "cf30cb38",
   "metadata": {},
   "outputs": [],
   "source": [
    "df.duplicated().any()"
   ]
  },
  {
   "cell_type": "code",
   "execution_count": null,
   "id": "11e9ca31",
   "metadata": {},
   "outputs": [],
   "source": [
    "df.isnull().sum()"
   ]
  },
  {
   "cell_type": "code",
   "execution_count": null,
   "id": "54b4d429",
   "metadata": {},
   "outputs": [],
   "source": [
    "df.drop(['ObjectId','ISO3'],axis=1,inplace=True)\n"
   ]
  },
  {
   "cell_type": "code",
   "execution_count": null,
   "id": "e2ea82c4",
   "metadata": {},
   "outputs": [],
   "source": [
    "df.columns"
   ]
  },
  {
   "cell_type": "code",
   "execution_count": null,
   "id": "60a5d246",
   "metadata": {},
   "outputs": [],
   "source": [
    "df['Country'].unique()"
   ]
  },
  {
   "cell_type": "code",
   "execution_count": null,
   "id": "ad0ddf94",
   "metadata": {},
   "outputs": [],
   "source": [
    "df.describe()"
   ]
  },
  {
   "cell_type": "code",
   "execution_count": null,
   "id": "8ee7d46e",
   "metadata": {},
   "outputs": [],
   "source": [
    "#Group the column to return only one Country value for each year\n",
    "df1=df.filter(regex='F\\d').groupby(df['Country']).sum().reset_index(drop=False)\n",
    "df1['Total']=df1.sum(axis=1, numeric_only= True)\n",
    "df1.columns = df1.columns.str.strip('F')\n",
    "df1.iloc[:,1:]= df1.iloc[:,1:].astype('int64')\n",
    "df1.tail()"
   ]
  },
  {
   "cell_type": "markdown",
   "id": "addc5f4c",
   "metadata": {},
   "source": [
    "# DATA VISUALIZATION"
   ]
  },
  {
   "cell_type": "code",
   "execution_count": null,
   "id": "0b117e85",
   "metadata": {},
   "outputs": [],
   "source": [
    "# colours\n",
    "low_c = '#dd4124'\n",
    "high_c = '#009473'\n",
    "color=[\"#f94144\",\"#f3722c\",\"#f8961e\",\"#f9c74f\",\"#90be6d\",\"#43aa8b\",\"#577590\",\"#dd4124\",\"#009473\"]\n",
    "plt.rcParams[\"font.family\"] = \"monospace\"\n",
    " "
   ]
  },
  {
   "cell_type": "code",
   "execution_count": null,
   "id": "7d6fb3d4",
   "metadata": {},
   "outputs": [],
   "source": [
    "# inspiration ; https://www.kaggle.com/gaetanlopez/how-to-make-clean-visualizations\n",
    "# changed code signif.\n",
    "\n",
    "fig = plt.figure(figsize=(6,3),dpi=150)\n",
    "gs = fig.add_gridspec(1, 1)\n",
    "gs.update(wspace=0.2, hspace=0.4)\n",
    "ax0 = fig.add_subplot(gs[0, 0])\n",
    "\n",
    "background_color = \"#fafafa\"\n",
    "fig.patch.set_facecolor(background_color) # figure background color\n",
    "ax0.set_facecolor(background_color) \n",
    "\n",
    "ax0.text(1.167,0.85,\"Carbon Dioxide Emission from 1995-2018\",color='#323232',fontsize=28, fontweight='bold', fontfamily='sanserif',ha='center')\n",
    "ax0.text(1.13,-0.35,\"Stand-out facts\",color='gray',fontsize=28, fontweight='bold', fontfamily='monospace',ha='center')\n",
    "\n",
    "\n",
    "\n",
    "\n",
    "ax0.text(0,0.4,\"Kazakhstan\",color=high_c,fontsize=25, fontweight='bold', fontfamily='monospace',ha='center')\n",
    "ax0.text(0,0.1,\"Highest Carbon Emission\",color='gray',fontsize=15, fontfamily='monospace',ha='center')\n",
    "\n",
    "ax0.text(0.77,0.4,\"Asia\",color=high_c,fontsize=25, fontweight='bold', fontfamily='monospace',ha='center')\n",
    "ax0.text(0.75,0.1,\"Highest in Continent\",color='gray',fontsize=15, fontfamily='monospace',ha='center')\n",
    "\n",
    "ax0.text(1.5,0.4,\"Australia\",color=low_c,fontsize=25, fontweight='bold', fontfamily='monospace',ha='center')\n",
    "ax0.text(1.5,0.1,\"Lowest in Continent\",color='gray',fontsize=15, fontfamily='monospace',ha='center')\n",
    "\n",
    "ax0.text(2.25,0.4,\"Switzerland\",color=low_c,fontsize=25, fontweight='bold', fontfamily='monospace',ha='center')\n",
    "ax0.text(2.25,0.1,\"Lowest Carbon Emission\",color='gray',fontsize=15, fontfamily='monospace',ha='center')\n",
    "\n",
    "ax0.set_yticklabels('')\n",
    "ax0.set_xticklabels('')\n",
    "ax0.tick_params(axis='both',length=0)\n",
    "\n",
    "for s in ['top','right','left','bottom']:\n",
    "    ax0.spines[s].set_visible(False)\n",
    "    \n",
    "import matplotlib.lines as lines\n",
    "l1 = lines.Line2D([0.15, 1.95], [0.67, 0.67], transform=fig.transFigure, figure=fig,color = 'gray', linestyle='-',linewidth = 1.1, alpha = .5)\n",
    "fig.lines.extend([l1])\n",
    "l2 = lines.Line2D([0.15, 1.95], [0.07, 0.07], transform=fig.transFigure, figure=fig,color = 'gray', linestyle='-',linewidth = 1.1, alpha = .5)\n",
    "fig.lines.extend([l2])\n",
    "    \n",
    "plt.show()"
   ]
  },
  {
   "cell_type": "code",
   "execution_count": null,
   "id": "4f4f0867",
   "metadata": {},
   "outputs": [],
   "source": [
    "df2=df1.sort_values('Total',ascending=False) #sort the value"
   ]
  },
  {
   "cell_type": "code",
   "execution_count": null,
   "id": "6e2138cf",
   "metadata": {},
   "outputs": [],
   "source": [
    "fig = plt.figure(figsize=(15,15),dpi=150)\n",
    "sns.barplot(x = \"Total\", y = \"Country\", data=df2 ,palette=\"coolwarm\")\n",
    "\n",
    "plt.xlabel(\"Total Emission from 1995-2018 \")\n",
    "plt.ylabel(\"Country\")\n",
    "plt.ticklabel_format(style='plain', axis='x')"
   ]
  },
  {
   "cell_type": "code",
   "execution_count": null,
   "id": "2b554f05",
   "metadata": {},
   "outputs": [],
   "source": [
    "top5=df2.head(5)\n",
    "bot5=df2.tail(5)\n",
    "\n",
    "\n",
    "fig= plt.figure(figsize=(15,8))\n",
    "g=gs.GridSpec(ncols=1, nrows=2, figure=fig)\n",
    "\n",
    "\n",
    "plt.suptitle(\"Countries With Highest and Lowest CO2 Emission\", family='Serif', weight='bold', size=30)\n",
    "ax1=plt.subplot(g[0,0])\n",
    "ax1=sns.barplot(data=top5, x=top5['Total'],y=top5['Country'], color=color[5])\n",
    "ax1.set_xlabel('Total Emission from 1995-2018 (per Metric tons) ')\n",
    "ax1.xaxis.set_visible(True)\n",
    "ax1.annotate(\"Top 5 countries With Highest CO2 Emission\",xy=(18,2), family='Serif', weight='bold', size=12)\n",
    "ax2=plt.subplot(g[1,0], sharex=ax1)\n",
    "ax2=sns.barplot(data=bot5, x=bot5['Total'],y=bot5['Country'], color=color[0])\n",
    "ax2.annotate(\"Bottom 5 countries with Lowest CO2 Emission\",xy=(8,2), family='Serif', weight='bold', size=12)\n",
    "ax2.set_xlabel('Total Emission from 1995-2018 (per Metric tons) ')\n",
    "ax2.xaxis.set_visible(True)\n",
    "for s in ['left','right','top','bottom']:\n",
    "    ax1.spines[s].set_visible(False)\n",
    "    ax2.spines[s].set_visible(False)\n"
   ]
  },
  {
   "cell_type": "code",
   "execution_count": null,
   "id": "01e60e57",
   "metadata": {},
   "outputs": [],
   "source": [
    "df6=top5\n",
    "del df6['Total']\n",
    "dfm2 = df6.melt('Country', var_name='Year', value_name='Emission')"
   ]
  },
  {
   "cell_type": "code",
   "execution_count": null,
   "id": "30aad755",
   "metadata": {},
   "outputs": [],
   "source": [
    "plt.figure(figsize=(22,8), dpi= 280)\n",
    "g = sns.pointplot(x=\"Year\", y=\"Emission\", hue='Country', data=dfm2, kind='point')\n"
   ]
  },
  {
   "cell_type": "code",
   "execution_count": null,
   "id": "c73bb4bf",
   "metadata": {},
   "outputs": [],
   "source": [
    "px.box(data_frame=dfm2, x='Emission', y='Country', color='Country', title='Variation of Carbon Emission for Top 5 Countries')\n"
   ]
  },
  {
   "cell_type": "code",
   "execution_count": null,
   "id": "02b73642",
   "metadata": {},
   "outputs": [],
   "source": [
    "dfm2['5years']=1\n",
    "\n",
    "dfm2['5years'][dfm2['Year'].between('1995','2000')]='1995-2000'\n",
    "dfm2['5years'][dfm2['Year'].between('2001','2005')]='2001-2005'\n",
    "dfm2['5years'][dfm2['Year'].between('2006','2010')]='2006-2010'\n",
    "dfm2['5years'][dfm2['Year'].between('2011','2015')]='2011-2015'\n",
    "dfm2['5years'][dfm2['Year'].between('2016','2018')]='2016-2018'"
   ]
  },
  {
   "cell_type": "code",
   "execution_count": null,
   "id": "7eb225ec",
   "metadata": {},
   "outputs": [],
   "source": [
    "px.box(data_frame=dfm2, x='Emission', y='Country', color='Country', title='Variation of Carbon Emission for 5years',facet_col='5years')"
   ]
  },
  {
   "cell_type": "code",
   "execution_count": null,
   "id": "63851072",
   "metadata": {},
   "outputs": [],
   "source": [
    "import pycountry_convert as pc\n",
    "df3=df.groupby(['Country','ISO2']).sum().reset_index(drop=False)\n",
    "df3.head(30)\n",
    "df3=pd.merge(df3, df1, on='Country')\n",
    "\n",
    "f = lambda x: pc.country_alpha2_to_continent_code(x)\n",
    "df3['Continent'] = df3['ISO2'].apply(f)\n",
    "\n",
    "\n",
    "name = {\n",
    "    'NA': 'North America',\n",
    "    'SA': 'South America', \n",
    "    'AS': 'Asia',\n",
    "    'OC': 'Australia',\n",
    "    'AF': 'Africa',\n",
    "    'EU': 'Europe'}\n",
    "df3['Continent'] = df3['Continent'].map(name)"
   ]
  },
  {
   "cell_type": "code",
   "execution_count": null,
   "id": "c412e5d7",
   "metadata": {},
   "outputs": [],
   "source": [
    "top5.head()"
   ]
  },
  {
   "cell_type": "code",
   "execution_count": null,
   "id": "464fe049",
   "metadata": {
    "scrolled": true
   },
   "outputs": [],
   "source": [
    "df4=df3.groupby(['Continent']).sum().reset_index(drop=False)\n",
    "df4.head()"
   ]
  },
  {
   "cell_type": "code",
   "execution_count": null,
   "id": "78b4b7b4",
   "metadata": {},
   "outputs": [],
   "source": [
    "sns.barplot(x = \"Continent\", y = \"Total\", data=df4 ,palette=\"bright\")\n",
    "\n",
    "plt.xlabel(\"Total Emission from 1995-2018 \")\n",
    "plt.ylabel(\"Continent\")\n",
    "plt.xticks(rotation=45)\n",
    "plt.ticklabel_format(style='plain', axis='y')\n",
    "\n"
   ]
  },
  {
   "cell_type": "markdown",
   "id": "90e229a6",
   "metadata": {},
   "source": [
    "•\tWe could see that the total carbon emission for the top 5 Countries decrease steadily from 1995-2018\n",
    "\n",
    "•\tThe highest Carbon Emission comes from Asia and Europe\n"
   ]
  }
 ],
 "metadata": {
  "kernelspec": {
   "display_name": "Python 3 (ipykernel)",
   "language": "python",
   "name": "python3"
  },
  "language_info": {
   "codemirror_mode": {
    "name": "ipython",
    "version": 3
   },
   "file_extension": ".py",
   "mimetype": "text/x-python",
   "name": "python",
   "nbconvert_exporter": "python",
   "pygments_lexer": "ipython3",
   "version": "3.9.12"
  }
 },
 "nbformat": 4,
 "nbformat_minor": 5
}
